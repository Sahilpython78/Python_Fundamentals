{
 "cells": [
  {
   "cell_type": "code",
   "execution_count": null,
   "id": "bae09a48",
   "metadata": {},
   "outputs": [],
   "source": [
    "Understanding the variables in python"
   ]
  },
  {
   "cell_type": "code",
   "execution_count": 1,
   "id": "f974937f",
   "metadata": {},
   "outputs": [],
   "source": [
    "x= 3\n",
    "y= 2"
   ]
  },
  {
   "cell_type": "code",
   "execution_count": 2,
   "id": "ff4e1893",
   "metadata": {},
   "outputs": [],
   "source": [
    "z=x+y"
   ]
  },
  {
   "cell_type": "code",
   "execution_count": 3,
   "id": "5a7263b6",
   "metadata": {},
   "outputs": [
    {
     "name": "stdout",
     "output_type": "stream",
     "text": [
      "5\n"
     ]
    }
   ],
   "source": [
    "print(z)"
   ]
  },
  {
   "cell_type": "code",
   "execution_count": 4,
   "id": "72cef36f",
   "metadata": {},
   "outputs": [],
   "source": [
    "p= 26\n",
    "q= 45"
   ]
  },
  {
   "cell_type": "code",
   "execution_count": 5,
   "id": "9c35f22c",
   "metadata": {},
   "outputs": [],
   "source": [
    "r=(p+q)"
   ]
  },
  {
   "cell_type": "code",
   "execution_count": 6,
   "id": "101f91bc",
   "metadata": {},
   "outputs": [
    {
     "name": "stdout",
     "output_type": "stream",
     "text": [
      "71\n"
     ]
    }
   ],
   "source": [
    "print(r)"
   ]
  },
  {
   "cell_type": "code",
   "execution_count": 8,
   "id": "c6ef606a",
   "metadata": {},
   "outputs": [],
   "source": [
    "sahil=10678\n",
    "arfat=676786"
   ]
  },
  {
   "cell_type": "code",
   "execution_count": 9,
   "id": "855b25a9",
   "metadata": {},
   "outputs": [],
   "source": [
    "total=(sahil+arfat)"
   ]
  },
  {
   "cell_type": "code",
   "execution_count": 10,
   "id": "2f5e06ee",
   "metadata": {},
   "outputs": [
    {
     "name": "stdout",
     "output_type": "stream",
     "text": [
      "687464\n"
     ]
    }
   ],
   "source": [
    "print(total)"
   ]
  },
  {
   "cell_type": "code",
   "execution_count": 26,
   "id": "45a81120",
   "metadata": {},
   "outputs": [
    {
     "data": {
      "text/plain": [
       "int"
      ]
     },
     "execution_count": 26,
     "metadata": {},
     "output_type": "execute_result"
    }
   ],
   "source": [
    "type(total)"
   ]
  },
  {
   "cell_type": "code",
   "execution_count": null,
   "id": "c3abee48",
   "metadata": {},
   "outputs": [],
   "source": [
    "it is a integers because the 'total' is a number"
   ]
  },
  {
   "cell_type": "code",
   "execution_count": null,
   "id": "e4bbf55a",
   "metadata": {},
   "outputs": [],
   "source": []
  },
  {
   "cell_type": "code",
   "execution_count": null,
   "id": "c58c66d7",
   "metadata": {},
   "outputs": [],
   "source": []
  },
  {
   "cell_type": "code",
   "execution_count": null,
   "id": "44bb80c8",
   "metadata": {},
   "outputs": [],
   "source": [
    "RULES for Declaring the varibales in Python"
   ]
  },
  {
   "cell_type": "code",
   "execution_count": null,
   "id": "bb29b73c",
   "metadata": {},
   "outputs": [],
   "source": [
    "Rule 1: no Namespace while declaring the variable name "
   ]
  },
  {
   "cell_type": "code",
   "execution_count": 11,
   "id": "1085c9f6",
   "metadata": {},
   "outputs": [
    {
     "ename": "SyntaxError",
     "evalue": "invalid syntax (2960573741.py, line 1)",
     "output_type": "error",
     "traceback": [
      "\u001b[1;36m  Input \u001b[1;32mIn [11]\u001b[1;36m\u001b[0m\n\u001b[1;33m    first name = 'sahil'\u001b[0m\n\u001b[1;37m          ^\u001b[0m\n\u001b[1;31mSyntaxError\u001b[0m\u001b[1;31m:\u001b[0m invalid syntax\n"
     ]
    }
   ],
   "source": [
    "first name = 'sahil'"
   ]
  },
  {
   "cell_type": "code",
   "execution_count": null,
   "id": "cec02ebf",
   "metadata": {},
   "outputs": [],
   "source": [
    "We should not use space"
   ]
  },
  {
   "cell_type": "code",
   "execution_count": null,
   "id": "641d4c5b",
   "metadata": {},
   "outputs": [],
   "source": []
  },
  {
   "cell_type": "code",
   "execution_count": 12,
   "id": "bb9992ff",
   "metadata": {},
   "outputs": [],
   "source": [
    "firstname='sahil'"
   ]
  },
  {
   "cell_type": "code",
   "execution_count": 13,
   "id": "82ac9d51",
   "metadata": {},
   "outputs": [
    {
     "name": "stdout",
     "output_type": "stream",
     "text": [
      "sahil\n"
     ]
    }
   ],
   "source": [
    "print(firstname)"
   ]
  },
  {
   "cell_type": "code",
   "execution_count": 27,
   "id": "8804ee1a",
   "metadata": {},
   "outputs": [
    {
     "data": {
      "text/plain": [
       "str"
      ]
     },
     "execution_count": 27,
     "metadata": {},
     "output_type": "execute_result"
    }
   ],
   "source": [
    "type(firstname)"
   ]
  },
  {
   "cell_type": "code",
   "execution_count": null,
   "id": "0a500304",
   "metadata": {},
   "outputs": [],
   "source": [
    "It is a string type "
   ]
  },
  {
   "cell_type": "code",
   "execution_count": null,
   "id": "828bcdc2",
   "metadata": {},
   "outputs": [],
   "source": []
  },
  {
   "cell_type": "code",
   "execution_count": 14,
   "id": "1782fe0f",
   "metadata": {},
   "outputs": [
    {
     "ename": "NameError",
     "evalue": "name 'najma' is not defined",
     "output_type": "error",
     "traceback": [
      "\u001b[1;31m---------------------------------------------------------------------------\u001b[0m",
      "\u001b[1;31mNameError\u001b[0m                                 Traceback (most recent call last)",
      "Input \u001b[1;32mIn [14]\u001b[0m, in \u001b[0;36m<cell line: 1>\u001b[1;34m()\u001b[0m\n\u001b[1;32m----> 1\u001b[0m firstname2\u001b[38;5;241m=\u001b[39m\u001b[43mnajma\u001b[49m\n",
      "\u001b[1;31mNameError\u001b[0m: name 'najma' is not defined"
     ]
    }
   ],
   "source": [
    "firstname2=najma"
   ]
  },
  {
   "cell_type": "code",
   "execution_count": null,
   "id": "deab9247",
   "metadata": {},
   "outputs": [],
   "source": [
    "no single quote used hence there's a error s"
   ]
  },
  {
   "cell_type": "code",
   "execution_count": 15,
   "id": "2d06ff49",
   "metadata": {},
   "outputs": [],
   "source": [
    "firstname2='najma'"
   ]
  },
  {
   "cell_type": "code",
   "execution_count": 16,
   "id": "d153ab21",
   "metadata": {},
   "outputs": [
    {
     "name": "stdout",
     "output_type": "stream",
     "text": [
      "najma\n"
     ]
    }
   ],
   "source": [
    "print(firstname2)"
   ]
  },
  {
   "cell_type": "code",
   "execution_count": null,
   "id": "b2756003",
   "metadata": {},
   "outputs": [],
   "source": []
  },
  {
   "cell_type": "code",
   "execution_count": null,
   "id": "b989555a",
   "metadata": {},
   "outputs": [],
   "source": [
    "Rule 2: A variable name will never start with a number"
   ]
  },
  {
   "cell_type": "code",
   "execution_count": 17,
   "id": "c9ba3ed0",
   "metadata": {},
   "outputs": [
    {
     "ename": "SyntaxError",
     "evalue": "invalid syntax (1668813567.py, line 1)",
     "output_type": "error",
     "traceback": [
      "\u001b[1;36m  Input \u001b[1;32mIn [17]\u001b[1;36m\u001b[0m\n\u001b[1;33m    7name='sahil'\u001b[0m\n\u001b[1;37m     ^\u001b[0m\n\u001b[1;31mSyntaxError\u001b[0m\u001b[1;31m:\u001b[0m invalid syntax\n"
     ]
    }
   ],
   "source": [
    "7name='sahil'"
   ]
  },
  {
   "cell_type": "code",
   "execution_count": null,
   "id": "62f2825c",
   "metadata": {},
   "outputs": [],
   "source": [
    "it is a error because I have used a number first with a variable name"
   ]
  },
  {
   "cell_type": "code",
   "execution_count": null,
   "id": "5f36333b",
   "metadata": {},
   "outputs": [],
   "source": []
  },
  {
   "cell_type": "code",
   "execution_count": 18,
   "id": "a75f6a5f",
   "metadata": {},
   "outputs": [],
   "source": [
    "name7='sahil'"
   ]
  },
  {
   "cell_type": "code",
   "execution_count": 19,
   "id": "55893d10",
   "metadata": {},
   "outputs": [
    {
     "name": "stdout",
     "output_type": "stream",
     "text": [
      "sahil\n"
     ]
    }
   ],
   "source": [
    "print(name7)"
   ]
  },
  {
   "cell_type": "code",
   "execution_count": 20,
   "id": "23c44091",
   "metadata": {},
   "outputs": [
    {
     "ename": "NameError",
     "evalue": "name 'abbu' is not defined",
     "output_type": "error",
     "traceback": [
      "\u001b[1;31m---------------------------------------------------------------------------\u001b[0m",
      "\u001b[1;31mNameError\u001b[0m                                 Traceback (most recent call last)",
      "Input \u001b[1;32mIn [20]\u001b[0m, in \u001b[0;36m<cell line: 1>\u001b[1;34m()\u001b[0m\n\u001b[1;32m----> 1\u001b[0m name9\u001b[38;5;241m=\u001b[39m\u001b[43mabbu\u001b[49m\n",
      "\u001b[1;31mNameError\u001b[0m: name 'abbu' is not defined"
     ]
    }
   ],
   "source": [
    "name9=abbu"
   ]
  },
  {
   "cell_type": "code",
   "execution_count": null,
   "id": "bc8ffb27",
   "metadata": {},
   "outputs": [],
   "source": [
    "again I have not used a single quote"
   ]
  },
  {
   "cell_type": "code",
   "execution_count": null,
   "id": "d70981c2",
   "metadata": {},
   "outputs": [],
   "source": []
  },
  {
   "cell_type": "code",
   "execution_count": 21,
   "id": "911f65d5",
   "metadata": {},
   "outputs": [],
   "source": [
    "name8='abbu'"
   ]
  },
  {
   "cell_type": "code",
   "execution_count": 22,
   "id": "88d02d1f",
   "metadata": {},
   "outputs": [
    {
     "name": "stdout",
     "output_type": "stream",
     "text": [
      "abbu\n"
     ]
    }
   ],
   "source": [
    "print(name8)"
   ]
  },
  {
   "cell_type": "code",
   "execution_count": null,
   "id": "b0ad4e4c",
   "metadata": {},
   "outputs": [],
   "source": []
  },
  {
   "cell_type": "code",
   "execution_count": null,
   "id": "32fd3873",
   "metadata": {},
   "outputs": [],
   "source": [
    "Rule 3: no special character"
   ]
  },
  {
   "cell_type": "code",
   "execution_count": 23,
   "id": "1a32adb7",
   "metadata": {},
   "outputs": [
    {
     "ename": "NameError",
     "evalue": "name 'name' is not defined",
     "output_type": "error",
     "traceback": [
      "\u001b[1;31m---------------------------------------------------------------------------\u001b[0m",
      "\u001b[1;31mNameError\u001b[0m                                 Traceback (most recent call last)",
      "Input \u001b[1;32mIn [23]\u001b[0m, in \u001b[0;36m<cell line: 1>\u001b[1;34m()\u001b[0m\n\u001b[1;32m----> 1\u001b[0m name\u001b[38;5;241m@\u001b[39m\u001b[38;5;241m=\u001b[39m\u001b[38;5;124m'\u001b[39m\u001b[38;5;124msahil khan\u001b[39m\u001b[38;5;124m'\u001b[39m\n",
      "\u001b[1;31mNameError\u001b[0m: name 'name' is not defined"
     ]
    }
   ],
   "source": [
    "name@='sahil khan'"
   ]
  },
  {
   "cell_type": "code",
   "execution_count": null,
   "id": "b18ff89d",
   "metadata": {},
   "outputs": [],
   "source": [
    "i received a error because I used a special character"
   ]
  },
  {
   "cell_type": "code",
   "execution_count": null,
   "id": "174ef0ec",
   "metadata": {},
   "outputs": [],
   "source": []
  },
  {
   "cell_type": "code",
   "execution_count": 24,
   "id": "05b648b0",
   "metadata": {},
   "outputs": [],
   "source": [
    "name90='sahi'"
   ]
  },
  {
   "cell_type": "code",
   "execution_count": 25,
   "id": "9876b0db",
   "metadata": {},
   "outputs": [
    {
     "name": "stdout",
     "output_type": "stream",
     "text": [
      "sahi\n"
     ]
    }
   ],
   "source": [
    "print(name90)"
   ]
  },
  {
   "cell_type": "code",
   "execution_count": null,
   "id": "4f5f274d",
   "metadata": {},
   "outputs": [],
   "source": []
  },
  {
   "cell_type": "code",
   "execution_count": null,
   "id": "dbcf268b",
   "metadata": {},
   "outputs": [],
   "source": [
    "INTRODUCTION TO DATATYPES IN PYTHON"
   ]
  },
  {
   "cell_type": "code",
   "execution_count": null,
   "id": "b2b095ce",
   "metadata": {},
   "outputs": [],
   "source": [
    "1. STRING"
   ]
  },
  {
   "cell_type": "code",
   "execution_count": 28,
   "id": "b75c2b90",
   "metadata": {},
   "outputs": [
    {
     "data": {
      "text/plain": [
       "str"
      ]
     },
     "execution_count": 28,
     "metadata": {},
     "output_type": "execute_result"
    }
   ],
   "source": [
    "type(firstname2)"
   ]
  },
  {
   "cell_type": "code",
   "execution_count": 29,
   "id": "fd193127",
   "metadata": {},
   "outputs": [
    {
     "ename": "NameError",
     "evalue": "name 'name2' is not defined",
     "output_type": "error",
     "traceback": [
      "\u001b[1;31m---------------------------------------------------------------------------\u001b[0m",
      "\u001b[1;31mNameError\u001b[0m                                 Traceback (most recent call last)",
      "Input \u001b[1;32mIn [29]\u001b[0m, in \u001b[0;36m<cell line: 1>\u001b[1;34m()\u001b[0m\n\u001b[1;32m----> 1\u001b[0m \u001b[38;5;28mtype\u001b[39m(\u001b[43mname2\u001b[49m)\n",
      "\u001b[1;31mNameError\u001b[0m: name 'name2' is not defined"
     ]
    }
   ],
   "source": [
    "type(name2)"
   ]
  },
  {
   "cell_type": "code",
   "execution_count": null,
   "id": "f9c357e5",
   "metadata": {},
   "outputs": [],
   "source": [
    "It is a error because there is no name2"
   ]
  },
  {
   "cell_type": "code",
   "execution_count": 30,
   "id": "4ddba87f",
   "metadata": {},
   "outputs": [
    {
     "data": {
      "text/plain": [
       "str"
      ]
     },
     "execution_count": 30,
     "metadata": {},
     "output_type": "execute_result"
    }
   ],
   "source": [
    "type(name7)"
   ]
  },
  {
   "cell_type": "code",
   "execution_count": null,
   "id": "b040937d",
   "metadata": {},
   "outputs": [],
   "source": []
  },
  {
   "cell_type": "code",
   "execution_count": null,
   "id": "adbae0c2",
   "metadata": {},
   "outputs": [],
   "source": [
    "2. NUMBERS"
   ]
  },
  {
   "cell_type": "code",
   "execution_count": 31,
   "id": "ff6ec9f7",
   "metadata": {},
   "outputs": [
    {
     "data": {
      "text/plain": [
       "int"
      ]
     },
     "execution_count": 31,
     "metadata": {},
     "output_type": "execute_result"
    }
   ],
   "source": [
    "type(total)"
   ]
  },
  {
   "cell_type": "code",
   "execution_count": 32,
   "id": "7be3fe0a",
   "metadata": {},
   "outputs": [
    {
     "data": {
      "text/plain": [
       "int"
      ]
     },
     "execution_count": 32,
     "metadata": {},
     "output_type": "execute_result"
    }
   ],
   "source": [
    "type(z)"
   ]
  },
  {
   "cell_type": "code",
   "execution_count": null,
   "id": "90571e41",
   "metadata": {},
   "outputs": [],
   "source": []
  },
  {
   "cell_type": "code",
   "execution_count": null,
   "id": "f3909219",
   "metadata": {},
   "outputs": [],
   "source": [
    "String Database \n",
    "1. Single Quote  --->''\n",
    "2. Double Quote  --->\"\"\n",
    "3. Triple Quote  --->\"\"\" \"\"\""
   ]
  },
  {
   "cell_type": "code",
   "execution_count": 33,
   "id": "ad284dba",
   "metadata": {},
   "outputs": [],
   "source": [
    "namee1='sahil'        #single quote"
   ]
  },
  {
   "cell_type": "code",
   "execution_count": 34,
   "id": "78f6d07d",
   "metadata": {},
   "outputs": [
    {
     "name": "stdout",
     "output_type": "stream",
     "text": [
      "sahil\n"
     ]
    }
   ],
   "source": [
    "print(namee1)"
   ]
  },
  {
   "cell_type": "code",
   "execution_count": null,
   "id": "9d5180e7",
   "metadata": {},
   "outputs": [],
   "source": []
  },
  {
   "cell_type": "code",
   "execution_count": 35,
   "id": "20a08f80",
   "metadata": {},
   "outputs": [],
   "source": [
    "namee2=\"ammi\"   #double quote"
   ]
  },
  {
   "cell_type": "code",
   "execution_count": 36,
   "id": "25cec0c4",
   "metadata": {},
   "outputs": [
    {
     "name": "stdout",
     "output_type": "stream",
     "text": [
      "ammi\n"
     ]
    }
   ],
   "source": [
    "print(namee2)"
   ]
  },
  {
   "cell_type": "code",
   "execution_count": null,
   "id": "b2a85530",
   "metadata": {},
   "outputs": [],
   "source": []
  },
  {
   "cell_type": "code",
   "execution_count": 37,
   "id": "b3aa68a2",
   "metadata": {},
   "outputs": [],
   "source": [
    "namee3=\"\"\"abbu\"\"\"    #triple quote"
   ]
  },
  {
   "cell_type": "code",
   "execution_count": 38,
   "id": "be7284cc",
   "metadata": {},
   "outputs": [
    {
     "name": "stdout",
     "output_type": "stream",
     "text": [
      "abbu\n"
     ]
    }
   ],
   "source": [
    "print(namee3)"
   ]
  },
  {
   "cell_type": "code",
   "execution_count": null,
   "id": "8ba500f0",
   "metadata": {},
   "outputs": [],
   "source": []
  },
  {
   "cell_type": "code",
   "execution_count": null,
   "id": "ce3e2501",
   "metadata": {},
   "outputs": [],
   "source": [
    "FOR TITLE ------->(.title())"
   ]
  },
  {
   "cell_type": "code",
   "execution_count": 40,
   "id": "75e7d91c",
   "metadata": {},
   "outputs": [],
   "source": [
    "fullname='sahil khan'"
   ]
  },
  {
   "cell_type": "code",
   "execution_count": 41,
   "id": "3ebcc44e",
   "metadata": {},
   "outputs": [
    {
     "name": "stdout",
     "output_type": "stream",
     "text": [
      "Sahil Khan\n"
     ]
    }
   ],
   "source": [
    "print(fullname.title())"
   ]
  },
  {
   "cell_type": "code",
   "execution_count": 42,
   "id": "c2afc57e",
   "metadata": {},
   "outputs": [],
   "source": [
    "fullname2='azad khan'"
   ]
  },
  {
   "cell_type": "code",
   "execution_count": 44,
   "id": "bdd0cc8d",
   "metadata": {},
   "outputs": [
    {
     "name": "stdout",
     "output_type": "stream",
     "text": [
      "Azad Khan\n"
     ]
    }
   ],
   "source": [
    "print(fullname2.title())"
   ]
  },
  {
   "cell_type": "code",
   "execution_count": null,
   "id": "ec29d73d",
   "metadata": {},
   "outputs": [],
   "source": []
  },
  {
   "cell_type": "code",
   "execution_count": null,
   "id": "5736b6a0",
   "metadata": {},
   "outputs": [],
   "source": [
    "FOR CAPITAL CASE ====> (.upper())"
   ]
  },
  {
   "cell_type": "code",
   "execution_count": 45,
   "id": "6806b38b",
   "metadata": {},
   "outputs": [
    {
     "name": "stdout",
     "output_type": "stream",
     "text": [
      "SAHIL KHAN\n"
     ]
    }
   ],
   "source": [
    "print(fullname.upper())"
   ]
  },
  {
   "cell_type": "code",
   "execution_count": 47,
   "id": "8906bbcb",
   "metadata": {},
   "outputs": [
    {
     "name": "stdout",
     "output_type": "stream",
     "text": [
      "AZAD KHAN\n"
     ]
    }
   ],
   "source": [
    "print(fullname2.upper())"
   ]
  },
  {
   "cell_type": "code",
   "execution_count": null,
   "id": "9365bf5c",
   "metadata": {},
   "outputs": [],
   "source": []
  },
  {
   "cell_type": "code",
   "execution_count": null,
   "id": "39746ccb",
   "metadata": {},
   "outputs": [],
   "source": [
    "FOR SMALL CASE ====> (.lower())"
   ]
  },
  {
   "cell_type": "code",
   "execution_count": 48,
   "id": "2e85eb11",
   "metadata": {},
   "outputs": [
    {
     "name": "stdout",
     "output_type": "stream",
     "text": [
      "sahil khan\n"
     ]
    }
   ],
   "source": [
    "print(fullname.lower())"
   ]
  },
  {
   "cell_type": "code",
   "execution_count": 49,
   "id": "7629390e",
   "metadata": {},
   "outputs": [
    {
     "name": "stdout",
     "output_type": "stream",
     "text": [
      "azad khan\n"
     ]
    }
   ],
   "source": [
    "print(fullname2.lower())"
   ]
  },
  {
   "cell_type": "code",
   "execution_count": null,
   "id": "0f1e72c5",
   "metadata": {},
   "outputs": [],
   "source": []
  }
 ],
 "metadata": {
  "kernelspec": {
   "display_name": "Python 3 (ipykernel)",
   "language": "python",
   "name": "python3"
  },
  "language_info": {
   "codemirror_mode": {
    "name": "ipython",
    "version": 3
   },
   "file_extension": ".py",
   "mimetype": "text/x-python",
   "name": "python",
   "nbconvert_exporter": "python",
   "pygments_lexer": "ipython3",
   "version": "3.9.12"
  }
 },
 "nbformat": 4,
 "nbformat_minor": 5
}
