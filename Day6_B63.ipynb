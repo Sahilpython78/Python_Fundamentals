{
 "cells": [
  {
   "cell_type": "code",
   "execution_count": null,
   "id": "4c2b6f51",
   "metadata": {},
   "outputs": [],
   "source": [
    "Continuation with list data type "
   ]
  },
  {
   "cell_type": "code",
   "execution_count": null,
   "id": "34abc10f",
   "metadata": {},
   "outputs": [],
   "source": [
    "Organising the list data type "
   ]
  },
  {
   "cell_type": "code",
   "execution_count": null,
   "id": "c96f6b3b",
   "metadata": {},
   "outputs": [],
   "source": []
  },
  {
   "cell_type": "code",
   "execution_count": 6,
   "id": "14e8f0bd",
   "metadata": {},
   "outputs": [],
   "source": [
    "cars=['suzuki', 'audi', 'kia', 'maruti','volvo', 'rangerover', 'bmw']"
   ]
  },
  {
   "cell_type": "code",
   "execution_count": 7,
   "id": "af374b40",
   "metadata": {},
   "outputs": [
    {
     "name": "stdout",
     "output_type": "stream",
     "text": [
      "['suzuki', 'audi', 'kia', 'maruti', 'volvo', 'rangerover', 'bmw']\n"
     ]
    }
   ],
   "source": [
    "print(cars)"
   ]
  },
  {
   "cell_type": "code",
   "execution_count": null,
   "id": "ba5720bf",
   "metadata": {},
   "outputs": [],
   "source": []
  },
  {
   "cell_type": "code",
   "execution_count": 8,
   "id": "8e094315",
   "metadata": {},
   "outputs": [],
   "source": [
    "bikes=['bullet','unicorn', 'activa', 'pulsar', 'access']"
   ]
  },
  {
   "cell_type": "code",
   "execution_count": 12,
   "id": "3d31f467",
   "metadata": {},
   "outputs": [
    {
     "name": "stdout",
     "output_type": "stream",
     "text": [
      "['bullet', 'unicorn', 'activa', 'pulsar', 'access']\n"
     ]
    }
   ],
   "source": [
    "print(bikes)"
   ]
  },
  {
   "cell_type": "code",
   "execution_count": null,
   "id": "311123c6",
   "metadata": {},
   "outputs": [],
   "source": []
  },
  {
   "cell_type": "code",
   "execution_count": null,
   "id": "115127e1",
   "metadata": {},
   "outputs": [],
   "source": [
    "Alphabetical Order\n",
    "1. Temporary Approach\n",
    "2. Permanent Approach "
   ]
  },
  {
   "cell_type": "code",
   "execution_count": null,
   "id": "8353c239",
   "metadata": {},
   "outputs": [],
   "source": [
    "1 Temp"
   ]
  },
  {
   "cell_type": "code",
   "execution_count": 13,
   "id": "c382d687",
   "metadata": {},
   "outputs": [
    {
     "name": "stdout",
     "output_type": "stream",
     "text": [
      "['audi', 'bmw', 'kia', 'maruti', 'rangerover', 'suzuki', 'volvo']\n"
     ]
    }
   ],
   "source": [
    "print(sorted(cars))"
   ]
  },
  {
   "cell_type": "code",
   "execution_count": 14,
   "id": "e58b6633",
   "metadata": {},
   "outputs": [
    {
     "name": "stdout",
     "output_type": "stream",
     "text": [
      "['access', 'activa', 'bullet', 'pulsar', 'unicorn']\n"
     ]
    }
   ],
   "source": [
    "print(sorted(bikes))"
   ]
  },
  {
   "cell_type": "code",
   "execution_count": null,
   "id": "d9b26301",
   "metadata": {},
   "outputs": [],
   "source": []
  },
  {
   "cell_type": "code",
   "execution_count": null,
   "id": "c80b729a",
   "metadata": {},
   "outputs": [],
   "source": [
    "2. PERMA"
   ]
  },
  {
   "cell_type": "code",
   "execution_count": 16,
   "id": "8f8a1daa",
   "metadata": {},
   "outputs": [],
   "source": [
    "cars.sort()"
   ]
  },
  {
   "cell_type": "code",
   "execution_count": 17,
   "id": "a9757aee",
   "metadata": {},
   "outputs": [
    {
     "name": "stdout",
     "output_type": "stream",
     "text": [
      "['audi', 'bmw', 'kia', 'maruti', 'rangerover', 'suzuki', 'volvo']\n"
     ]
    }
   ],
   "source": [
    "print(cars)"
   ]
  },
  {
   "cell_type": "code",
   "execution_count": 18,
   "id": "01bba968",
   "metadata": {},
   "outputs": [],
   "source": [
    "bikes.sort()"
   ]
  },
  {
   "cell_type": "code",
   "execution_count": 19,
   "id": "f420acc3",
   "metadata": {},
   "outputs": [
    {
     "name": "stdout",
     "output_type": "stream",
     "text": [
      "['access', 'activa', 'bullet', 'pulsar', 'unicorn']\n"
     ]
    }
   ],
   "source": [
    "print(bikes)"
   ]
  },
  {
   "cell_type": "code",
   "execution_count": null,
   "id": "400c4cbf",
   "metadata": {},
   "outputs": [],
   "source": []
  },
  {
   "cell_type": "code",
   "execution_count": null,
   "id": "2bd834a0",
   "metadata": {},
   "outputs": [],
   "source": [
    "COUNT"
   ]
  },
  {
   "cell_type": "code",
   "execution_count": 20,
   "id": "df341a09",
   "metadata": {},
   "outputs": [
    {
     "data": {
      "text/plain": [
       "7"
      ]
     },
     "execution_count": 20,
     "metadata": {},
     "output_type": "execute_result"
    }
   ],
   "source": [
    "len(cars)"
   ]
  },
  {
   "cell_type": "code",
   "execution_count": 21,
   "id": "5b9227ed",
   "metadata": {},
   "outputs": [
    {
     "data": {
      "text/plain": [
       "5"
      ]
     },
     "execution_count": 21,
     "metadata": {},
     "output_type": "execute_result"
    }
   ],
   "source": [
    "len(bikes)"
   ]
  },
  {
   "cell_type": "code",
   "execution_count": null,
   "id": "834648df",
   "metadata": {},
   "outputs": [],
   "source": []
  },
  {
   "cell_type": "code",
   "execution_count": 22,
   "id": "daf3a601",
   "metadata": {},
   "outputs": [],
   "source": [
    "cars.reverse()"
   ]
  },
  {
   "cell_type": "code",
   "execution_count": 23,
   "id": "cb493fea",
   "metadata": {},
   "outputs": [],
   "source": [
    "bikes.reverse()"
   ]
  },
  {
   "cell_type": "code",
   "execution_count": 24,
   "id": "0a8e7592",
   "metadata": {},
   "outputs": [
    {
     "name": "stdout",
     "output_type": "stream",
     "text": [
      "['volvo', 'suzuki', 'rangerover', 'maruti', 'kia', 'bmw', 'audi']\n"
     ]
    }
   ],
   "source": [
    "print(cars)"
   ]
  },
  {
   "cell_type": "code",
   "execution_count": 25,
   "id": "67674d8a",
   "metadata": {},
   "outputs": [
    {
     "name": "stdout",
     "output_type": "stream",
     "text": [
      "['unicorn', 'pulsar', 'bullet', 'activa', 'access']\n"
     ]
    }
   ],
   "source": [
    "print(bikes)"
   ]
  },
  {
   "cell_type": "code",
   "execution_count": null,
   "id": "c7bdea40",
   "metadata": {},
   "outputs": [],
   "source": []
  },
  {
   "cell_type": "code",
   "execution_count": null,
   "id": "1cf2b538",
   "metadata": {},
   "outputs": [],
   "source": [
    "SLICING"
   ]
  },
  {
   "cell_type": "code",
   "execution_count": 26,
   "id": "98a890d7",
   "metadata": {},
   "outputs": [],
   "source": [
    "students= ['joseph','david','naveen','aftab','keerthi','shifa','julie']"
   ]
  },
  {
   "cell_type": "code",
   "execution_count": 27,
   "id": "76a85885",
   "metadata": {},
   "outputs": [
    {
     "name": "stdout",
     "output_type": "stream",
     "text": [
      "['joseph', 'david', 'naveen', 'aftab', 'keerthi', 'shifa', 'julie']\n"
     ]
    }
   ],
   "source": [
    "print(students)"
   ]
  },
  {
   "cell_type": "code",
   "execution_count": 28,
   "id": "1f1756cb",
   "metadata": {},
   "outputs": [
    {
     "name": "stdout",
     "output_type": "stream",
     "text": [
      "['joseph']\n"
     ]
    }
   ],
   "source": [
    "print(students[0:1])"
   ]
  },
  {
   "cell_type": "code",
   "execution_count": 29,
   "id": "4f89f5da",
   "metadata": {},
   "outputs": [
    {
     "name": "stdout",
     "output_type": "stream",
     "text": [
      "['joseph', 'david']\n"
     ]
    }
   ],
   "source": [
    "print(students[0:2])"
   ]
  },
  {
   "cell_type": "code",
   "execution_count": 30,
   "id": "beacc9d1",
   "metadata": {},
   "outputs": [
    {
     "name": "stdout",
     "output_type": "stream",
     "text": [
      "['naveen', 'aftab']\n"
     ]
    }
   ],
   "source": [
    "print(students[2:4])"
   ]
  },
  {
   "cell_type": "code",
   "execution_count": 31,
   "id": "ff03cba6",
   "metadata": {},
   "outputs": [
    {
     "name": "stdout",
     "output_type": "stream",
     "text": [
      "['david', 'naveen', 'aftab']\n"
     ]
    }
   ],
   "source": [
    "print(students[1:4])"
   ]
  },
  {
   "cell_type": "code",
   "execution_count": 32,
   "id": "d93a016c",
   "metadata": {},
   "outputs": [
    {
     "name": "stdout",
     "output_type": "stream",
     "text": [
      "[]\n"
     ]
    }
   ],
   "source": [
    "print(students[4:1])"
   ]
  },
  {
   "cell_type": "code",
   "execution_count": 33,
   "id": "42103213",
   "metadata": {},
   "outputs": [
    {
     "name": "stdout",
     "output_type": "stream",
     "text": [
      "['keerthi', 'shifa']\n"
     ]
    }
   ],
   "source": [
    "print(students[4:6])"
   ]
  },
  {
   "cell_type": "code",
   "execution_count": 34,
   "id": "3fe54b3c",
   "metadata": {},
   "outputs": [
    {
     "name": "stdout",
     "output_type": "stream",
     "text": [
      "['joseph', 'naveen', 'keerthi', 'julie']\n"
     ]
    }
   ],
   "source": [
    "print(students[0:8:2])"
   ]
  },
  {
   "cell_type": "code",
   "execution_count": 35,
   "id": "34d56374",
   "metadata": {},
   "outputs": [
    {
     "name": "stdout",
     "output_type": "stream",
     "text": [
      "['joseph', 'aftab', 'julie']\n"
     ]
    }
   ],
   "source": [
    "print(students[0:8:3])"
   ]
  },
  {
   "cell_type": "code",
   "execution_count": null,
   "id": "b385d899",
   "metadata": {},
   "outputs": [],
   "source": []
  }
 ],
 "metadata": {
  "kernelspec": {
   "display_name": "Python 3 (ipykernel)",
   "language": "python",
   "name": "python3"
  },
  "language_info": {
   "codemirror_mode": {
    "name": "ipython",
    "version": 3
   },
   "file_extension": ".py",
   "mimetype": "text/x-python",
   "name": "python",
   "nbconvert_exporter": "python",
   "pygments_lexer": "ipython3",
   "version": "3.9.12"
  }
 },
 "nbformat": 4,
 "nbformat_minor": 5
}
