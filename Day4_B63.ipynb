{
 "cells": [
  {
   "cell_type": "code",
   "execution_count": null,
   "id": "33e84788",
   "metadata": {},
   "outputs": [],
   "source": [
    "Introduction to list datatype :"
   ]
  },
  {
   "cell_type": "code",
   "execution_count": null,
   "id": "bd7b350e",
   "metadata": {},
   "outputs": [],
   "source": []
  },
  {
   "cell_type": "code",
   "execution_count": 1,
   "id": "5e1b0680",
   "metadata": {},
   "outputs": [],
   "source": [
    "students= ['joseph','david','naveen','aftab','keerthi','shifa','julie']"
   ]
  },
  {
   "cell_type": "code",
   "execution_count": 2,
   "id": "90c467bf",
   "metadata": {},
   "outputs": [
    {
     "name": "stdout",
     "output_type": "stream",
     "text": [
      "['joseph', 'david', 'naveen', 'aftab', 'keerthi', 'shifa', 'julie']\n"
     ]
    }
   ],
   "source": [
    "print(students)"
   ]
  },
  {
   "cell_type": "code",
   "execution_count": 3,
   "id": "6b080e46",
   "metadata": {},
   "outputs": [
    {
     "data": {
      "text/plain": [
       "list"
      ]
     },
     "execution_count": 3,
     "metadata": {},
     "output_type": "execute_result"
    }
   ],
   "source": [
    "type(students)"
   ]
  },
  {
   "cell_type": "code",
   "execution_count": null,
   "id": "25022f7b",
   "metadata": {},
   "outputs": [],
   "source": []
  },
  {
   "cell_type": "code",
   "execution_count": 4,
   "id": "03d33057",
   "metadata": {},
   "outputs": [],
   "source": [
    "vegetables=['onino','tomato','chilli','cabbage','potato','ginger']"
   ]
  },
  {
   "cell_type": "code",
   "execution_count": 5,
   "id": "4c19bd39",
   "metadata": {},
   "outputs": [
    {
     "name": "stdout",
     "output_type": "stream",
     "text": [
      "['onino', 'tomato', 'chilli', 'cabbage', 'potato', 'ginger']\n"
     ]
    }
   ],
   "source": [
    "print(vegetables)"
   ]
  },
  {
   "cell_type": "code",
   "execution_count": 7,
   "id": "5fe3383c",
   "metadata": {},
   "outputs": [
    {
     "data": {
      "text/plain": [
       "list"
      ]
     },
     "execution_count": 7,
     "metadata": {},
     "output_type": "execute_result"
    }
   ],
   "source": [
    "type(vegetables)"
   ]
  },
  {
   "cell_type": "code",
   "execution_count": null,
   "id": "52fc3ade",
   "metadata": {},
   "outputs": [],
   "source": []
  },
  {
   "cell_type": "code",
   "execution_count": null,
   "id": "201d958c",
   "metadata": {},
   "outputs": [],
   "source": [
    "Introduction to Indexing ......?"
   ]
  },
  {
   "cell_type": "code",
   "execution_count": null,
   "id": "fccc7351",
   "metadata": {},
   "outputs": [],
   "source": [
    "0,1,2,3,.........n"
   ]
  },
  {
   "cell_type": "code",
   "execution_count": null,
   "id": "94617cbc",
   "metadata": {},
   "outputs": [],
   "source": [
    "#req : i want to get david in the output"
   ]
  },
  {
   "cell_type": "code",
   "execution_count": 8,
   "id": "186b1cad",
   "metadata": {},
   "outputs": [
    {
     "name": "stdout",
     "output_type": "stream",
     "text": [
      "david\n"
     ]
    }
   ],
   "source": [
    "print(students[1])"
   ]
  },
  {
   "cell_type": "code",
   "execution_count": 9,
   "id": "eda39778",
   "metadata": {},
   "outputs": [
    {
     "name": "stdout",
     "output_type": "stream",
     "text": [
      "David\n"
     ]
    }
   ],
   "source": [
    "print(students[1].title())"
   ]
  },
  {
   "cell_type": "code",
   "execution_count": 10,
   "id": "c674ad0f",
   "metadata": {},
   "outputs": [
    {
     "name": "stdout",
     "output_type": "stream",
     "text": [
      "shifa\n"
     ]
    }
   ],
   "source": [
    "print(students[5])"
   ]
  },
  {
   "cell_type": "code",
   "execution_count": 11,
   "id": "02e2c71c",
   "metadata": {},
   "outputs": [
    {
     "name": "stdout",
     "output_type": "stream",
     "text": [
      "Shifa\n"
     ]
    }
   ],
   "source": [
    "print(students[5].title())"
   ]
  },
  {
   "cell_type": "code",
   "execution_count": 12,
   "id": "61ee7104",
   "metadata": {},
   "outputs": [
    {
     "name": "stdout",
     "output_type": "stream",
     "text": [
      "SHIFA\n"
     ]
    }
   ],
   "source": [
    "print(students[5].upper())"
   ]
  },
  {
   "cell_type": "code",
   "execution_count": 13,
   "id": "1836d7e8",
   "metadata": {},
   "outputs": [
    {
     "name": "stdout",
     "output_type": "stream",
     "text": [
      "david\n"
     ]
    }
   ],
   "source": [
    "print(students[1].lower())"
   ]
  },
  {
   "cell_type": "code",
   "execution_count": 14,
   "id": "d47f2e7f",
   "metadata": {},
   "outputs": [
    {
     "name": "stdout",
     "output_type": "stream",
     "text": [
      "Chilli\n"
     ]
    }
   ],
   "source": [
    "print(vegetables[2].title())"
   ]
  },
  {
   "cell_type": "code",
   "execution_count": 15,
   "id": "f88c500d",
   "metadata": {},
   "outputs": [
    {
     "data": {
      "text/plain": [
       "list"
      ]
     },
     "execution_count": 15,
     "metadata": {},
     "output_type": "execute_result"
    }
   ],
   "source": [
    "type(vegetables)"
   ]
  },
  {
   "cell_type": "code",
   "execution_count": 17,
   "id": "c221c9bb",
   "metadata": {},
   "outputs": [
    {
     "name": "stdout",
     "output_type": "stream",
     "text": [
      "potato\n"
     ]
    }
   ],
   "source": [
    "print(vegetables[4])"
   ]
  },
  {
   "cell_type": "code",
   "execution_count": 18,
   "id": "0cb4d2b4",
   "metadata": {},
   "outputs": [
    {
     "name": "stdout",
     "output_type": "stream",
     "text": [
      "POTATO\n"
     ]
    }
   ],
   "source": [
    "print(vegetables[4].upper())"
   ]
  },
  {
   "cell_type": "code",
   "execution_count": 22,
   "id": "c5f738e2",
   "metadata": {
    "scrolled": true
   },
   "outputs": [
    {
     "ename": "AttributeError",
     "evalue": "'list' object has no attribute 'title'",
     "output_type": "error",
     "traceback": [
      "\u001b[1;31m---------------------------------------------------------------------------\u001b[0m",
      "\u001b[1;31mAttributeError\u001b[0m                            Traceback (most recent call last)",
      "Input \u001b[1;32mIn [22]\u001b[0m, in \u001b[0;36m<cell line: 1>\u001b[1;34m()\u001b[0m\n\u001b[1;32m----> 1\u001b[0m \u001b[38;5;28mprint\u001b[39m(\u001b[43mvegetables\u001b[49m\u001b[38;5;241;43m.\u001b[39;49m\u001b[43mtitle\u001b[49m())\n",
      "\u001b[1;31mAttributeError\u001b[0m: 'list' object has no attribute 'title'"
     ]
    }
   ],
   "source": [
    "print(vegetables.title())"
   ]
  },
  {
   "cell_type": "code",
   "execution_count": 23,
   "id": "717f624e",
   "metadata": {},
   "outputs": [
    {
     "ename": "AttributeError",
     "evalue": "'list' object has no attribute 'lower'",
     "output_type": "error",
     "traceback": [
      "\u001b[1;31m---------------------------------------------------------------------------\u001b[0m",
      "\u001b[1;31mAttributeError\u001b[0m                            Traceback (most recent call last)",
      "Input \u001b[1;32mIn [23]\u001b[0m, in \u001b[0;36m<cell line: 1>\u001b[1;34m()\u001b[0m\n\u001b[1;32m----> 1\u001b[0m \u001b[38;5;28mprint\u001b[39m(\u001b[43mvegetables\u001b[49m\u001b[38;5;241;43m.\u001b[39;49m\u001b[43mlower\u001b[49m())\n",
      "\u001b[1;31mAttributeError\u001b[0m: 'list' object has no attribute 'lower'"
     ]
    }
   ],
   "source": [
    "print(vegetables.lower())"
   ]
  },
  {
   "cell_type": "code",
   "execution_count": null,
   "id": "e493939d",
   "metadata": {},
   "outputs": [],
   "source": [
    "#learned that in list methods there we can't use TITLE method nor UPPER & LOWER......"
   ]
  },
  {
   "cell_type": "code",
   "execution_count": null,
   "id": "16bb3329",
   "metadata": {},
   "outputs": [],
   "source": []
  },
  {
   "cell_type": "code",
   "execution_count": 24,
   "id": "e2a89e2e",
   "metadata": {},
   "outputs": [
    {
     "name": "stdout",
     "output_type": "stream",
     "text": [
      "Cabbage\n"
     ]
    }
   ],
   "source": [
    "print(vegetables[3].title())"
   ]
  },
  {
   "cell_type": "code",
   "execution_count": 25,
   "id": "6eb3f7e2",
   "metadata": {},
   "outputs": [
    {
     "name": "stdout",
     "output_type": "stream",
     "text": [
      "Ginger\n"
     ]
    }
   ],
   "source": [
    "print(vegetables[5].title())"
   ]
  },
  {
   "cell_type": "code",
   "execution_count": null,
   "id": "6f19a9a5",
   "metadata": {},
   "outputs": [],
   "source": []
  },
  {
   "cell_type": "code",
   "execution_count": null,
   "id": "35dd0cf9",
   "metadata": {},
   "outputs": [],
   "source": [
    "Add new elemnet in the list......"
   ]
  },
  {
   "cell_type": "code",
   "execution_count": 26,
   "id": "6afc2721",
   "metadata": {},
   "outputs": [
    {
     "name": "stdout",
     "output_type": "stream",
     "text": [
      "['joseph', 'david', 'naveen', 'aftab', 'keerthi', 'shifa', 'julie']\n"
     ]
    }
   ],
   "source": [
    "print(students)"
   ]
  },
  {
   "cell_type": "code",
   "execution_count": null,
   "id": "9a4aeb7c",
   "metadata": {},
   "outputs": [],
   "source": []
  },
  {
   "cell_type": "code",
   "execution_count": null,
   "id": "c7ac9f9c",
   "metadata": {},
   "outputs": [],
   "source": [
    "add sahil in the list"
   ]
  },
  {
   "cell_type": "code",
   "execution_count": 27,
   "id": "8e180a7b",
   "metadata": {},
   "outputs": [],
   "source": [
    "students.append('sahil')"
   ]
  },
  {
   "cell_type": "code",
   "execution_count": 28,
   "id": "e3813c47",
   "metadata": {},
   "outputs": [
    {
     "name": "stdout",
     "output_type": "stream",
     "text": [
      "['joseph', 'david', 'naveen', 'aftab', 'keerthi', 'shifa', 'julie', 'sahil']\n"
     ]
    }
   ],
   "source": [
    "print(students)"
   ]
  },
  {
   "cell_type": "code",
   "execution_count": null,
   "id": "3d1b762f",
   "metadata": {},
   "outputs": [],
   "source": []
  },
  {
   "cell_type": "code",
   "execution_count": 29,
   "id": "2fd1e525",
   "metadata": {},
   "outputs": [],
   "source": [
    "students.append('arfat')"
   ]
  },
  {
   "cell_type": "code",
   "execution_count": 30,
   "id": "7fd7c480",
   "metadata": {},
   "outputs": [
    {
     "name": "stdout",
     "output_type": "stream",
     "text": [
      "['joseph', 'david', 'naveen', 'aftab', 'keerthi', 'shifa', 'julie', 'sahil', 'arfat']\n"
     ]
    }
   ],
   "source": [
    "print(students)"
   ]
  },
  {
   "cell_type": "code",
   "execution_count": 31,
   "id": "8818f7f0",
   "metadata": {},
   "outputs": [],
   "source": [
    "students.append('tufel')"
   ]
  },
  {
   "cell_type": "code",
   "execution_count": 32,
   "id": "c6d8870d",
   "metadata": {},
   "outputs": [
    {
     "name": "stdout",
     "output_type": "stream",
     "text": [
      "['joseph', 'david', 'naveen', 'aftab', 'keerthi', 'shifa', 'julie', 'sahil', 'arfat', 'tufel']\n"
     ]
    }
   ],
   "source": [
    "print(students)"
   ]
  },
  {
   "cell_type": "code",
   "execution_count": null,
   "id": "1db7ce02",
   "metadata": {},
   "outputs": [],
   "source": []
  },
  {
   "cell_type": "code",
   "execution_count": 34,
   "id": "f03887a9",
   "metadata": {},
   "outputs": [],
   "source": [
    "vegetables.append('pumpkin')"
   ]
  },
  {
   "cell_type": "code",
   "execution_count": 35,
   "id": "38d11eec",
   "metadata": {},
   "outputs": [
    {
     "name": "stdout",
     "output_type": "stream",
     "text": [
      "['onino', 'tomato', 'chilli', 'cabbage', 'potato', 'ginger', 'pumpkin']\n"
     ]
    }
   ],
   "source": [
    "print(vegetables)"
   ]
  },
  {
   "cell_type": "code",
   "execution_count": null,
   "id": "77808be5",
   "metadata": {},
   "outputs": [],
   "source": []
  },
  {
   "cell_type": "code",
   "execution_count": 36,
   "id": "e165bb22",
   "metadata": {},
   "outputs": [],
   "source": [
    "vegetables.append('bitterguard')"
   ]
  },
  {
   "cell_type": "code",
   "execution_count": 37,
   "id": "fe005dfa",
   "metadata": {},
   "outputs": [
    {
     "name": "stdout",
     "output_type": "stream",
     "text": [
      "['onino', 'tomato', 'chilli', 'cabbage', 'potato', 'ginger', 'pumpkin', 'bitterguard']\n"
     ]
    }
   ],
   "source": [
    "print(vegetables)"
   ]
  },
  {
   "cell_type": "code",
   "execution_count": null,
   "id": "2c17bfcc",
   "metadata": {},
   "outputs": [],
   "source": []
  },
  {
   "cell_type": "code",
   "execution_count": null,
   "id": "80f008d5",
   "metadata": {},
   "outputs": [],
   "source": [
    "Add at position #insert"
   ]
  },
  {
   "cell_type": "code",
   "execution_count": 38,
   "id": "2c0fc4e0",
   "metadata": {},
   "outputs": [],
   "source": [
    "students.insert(2,'maaz')"
   ]
  },
  {
   "cell_type": "code",
   "execution_count": 39,
   "id": "e81edb38",
   "metadata": {},
   "outputs": [
    {
     "name": "stdout",
     "output_type": "stream",
     "text": [
      "['joseph', 'david', 'maaz', 'naveen', 'aftab', 'keerthi', 'shifa', 'julie', 'sahil', 'arfat', 'tufel']\n"
     ]
    }
   ],
   "source": [
    "print(students)"
   ]
  },
  {
   "cell_type": "code",
   "execution_count": null,
   "id": "8332a904",
   "metadata": {},
   "outputs": [],
   "source": []
  },
  {
   "cell_type": "code",
   "execution_count": 40,
   "id": "af7e259e",
   "metadata": {},
   "outputs": [],
   "source": [
    "vegetables.insert(1,'garlic')"
   ]
  },
  {
   "cell_type": "code",
   "execution_count": 41,
   "id": "180715e1",
   "metadata": {},
   "outputs": [
    {
     "name": "stdout",
     "output_type": "stream",
     "text": [
      "['onino', 'garlic', 'tomato', 'chilli', 'cabbage', 'potato', 'ginger', 'pumpkin', 'bitterguard']\n"
     ]
    }
   ],
   "source": [
    "print(vegetables)"
   ]
  },
  {
   "cell_type": "code",
   "execution_count": 42,
   "id": "65939b6d",
   "metadata": {},
   "outputs": [
    {
     "name": "stdout",
     "output_type": "stream",
     "text": [
      "Tomato\n"
     ]
    }
   ],
   "source": [
    "print(vegetables[2].title())"
   ]
  },
  {
   "cell_type": "code",
   "execution_count": 43,
   "id": "275cd9f3",
   "metadata": {},
   "outputs": [
    {
     "name": "stdout",
     "output_type": "stream",
     "text": [
      "Cabbage\n"
     ]
    }
   ],
   "source": [
    "print(vegetables[4].title())"
   ]
  },
  {
   "cell_type": "code",
   "execution_count": null,
   "id": "b183ecb1",
   "metadata": {},
   "outputs": [],
   "source": []
  },
  {
   "cell_type": "code",
   "execution_count": 45,
   "id": "63272e9a",
   "metadata": {},
   "outputs": [
    {
     "name": "stdout",
     "output_type": "stream",
     "text": [
      "Aftab\n"
     ]
    }
   ],
   "source": [
    "print(students[4].title())"
   ]
  },
  {
   "cell_type": "code",
   "execution_count": 46,
   "id": "1147fe9f",
   "metadata": {},
   "outputs": [
    {
     "name": "stdout",
     "output_type": "stream",
     "text": [
      "Julie\n"
     ]
    }
   ],
   "source": [
    "print(students[7].title())"
   ]
  },
  {
   "cell_type": "code",
   "execution_count": null,
   "id": "a2278990",
   "metadata": {},
   "outputs": [],
   "source": []
  },
  {
   "cell_type": "code",
   "execution_count": null,
   "id": "ef4622b6",
   "metadata": {},
   "outputs": [],
   "source": []
  },
  {
   "cell_type": "code",
   "execution_count": null,
   "id": "2b4b72d9",
   "metadata": {},
   "outputs": [],
   "source": []
  },
  {
   "cell_type": "code",
   "execution_count": null,
   "id": "a763a26f",
   "metadata": {},
   "outputs": [],
   "source": []
  },
  {
   "cell_type": "code",
   "execution_count": null,
   "id": "7472037d",
   "metadata": {},
   "outputs": [],
   "source": []
  },
  {
   "cell_type": "code",
   "execution_count": null,
   "id": "9d70cdb2",
   "metadata": {},
   "outputs": [],
   "source": []
  },
  {
   "cell_type": "code",
   "execution_count": null,
   "id": "af39b814",
   "metadata": {},
   "outputs": [],
   "source": []
  },
  {
   "cell_type": "code",
   "execution_count": null,
   "id": "82810d8d",
   "metadata": {},
   "outputs": [],
   "source": []
  },
  {
   "cell_type": "code",
   "execution_count": null,
   "id": "05dfef2f",
   "metadata": {},
   "outputs": [],
   "source": []
  }
 ],
 "metadata": {
  "kernelspec": {
   "display_name": "Python 3 (ipykernel)",
   "language": "python",
   "name": "python3"
  },
  "language_info": {
   "codemirror_mode": {
    "name": "ipython",
    "version": 3
   },
   "file_extension": ".py",
   "mimetype": "text/x-python",
   "name": "python",
   "nbconvert_exporter": "python",
   "pygments_lexer": "ipython3",
   "version": "3.9.12"
  }
 },
 "nbformat": 4,
 "nbformat_minor": 5
}
