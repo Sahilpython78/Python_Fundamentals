{
 "cells": [
  {
   "cell_type": "code",
   "execution_count": null,
   "id": "18ff07c1",
   "metadata": {},
   "outputs": [],
   "source": [
    "#continuation with strings :"
   ]
  },
  {
   "cell_type": "code",
   "execution_count": null,
   "id": "7a1384d1",
   "metadata": {},
   "outputs": [],
   "source": []
  },
  {
   "cell_type": "code",
   "execution_count": null,
   "id": "08592e28",
   "metadata": {},
   "outputs": [],
   "source": [
    "#general syntax of strings\n",
    "f\" custom words {placeholder1} {placeholder2} ......{placeholdern}\"\n"
   ]
  },
  {
   "cell_type": "code",
   "execution_count": 1,
   "id": "78e45c92",
   "metadata": {},
   "outputs": [],
   "source": [
    "first_name='sahil'\n",
    "last_name='khan'"
   ]
  },
  {
   "cell_type": "code",
   "execution_count": 2,
   "id": "a74ada9e",
   "metadata": {},
   "outputs": [],
   "source": [
    "full_name=f\"{first_name} {last_name}\""
   ]
  },
  {
   "cell_type": "code",
   "execution_count": 3,
   "id": "ca8350f6",
   "metadata": {},
   "outputs": [
    {
     "name": "stdout",
     "output_type": "stream",
     "text": [
      "sahil khan\n"
     ]
    }
   ],
   "source": [
    "print(full_name)"
   ]
  },
  {
   "cell_type": "code",
   "execution_count": null,
   "id": "3a203c21",
   "metadata": {},
   "outputs": [],
   "source": []
  },
  {
   "cell_type": "code",
   "execution_count": 9,
   "id": "0982373c",
   "metadata": {},
   "outputs": [],
   "source": [
    "number_1= 56\n",
    "number_2= 67\n",
    "number_3= 989\n",
    "number_6= 78"
   ]
  },
  {
   "cell_type": "code",
   "execution_count": 23,
   "id": "6e58960e",
   "metadata": {},
   "outputs": [],
   "source": [
    "total=f\"{number_1} {number_2} {number_3} {number_6}\""
   ]
  },
  {
   "cell_type": "code",
   "execution_count": 24,
   "id": "cc7775f9",
   "metadata": {},
   "outputs": [
    {
     "name": "stdout",
     "output_type": "stream",
     "text": [
      "56 67 989 78\n"
     ]
    }
   ],
   "source": [
    "print(total)"
   ]
  },
  {
   "cell_type": "code",
   "execution_count": 25,
   "id": "68085094",
   "metadata": {},
   "outputs": [
    {
     "name": "stdout",
     "output_type": "stream",
     "text": [
      "56 67 989 78\n"
     ]
    }
   ],
   "source": [
    "print(total.title())"
   ]
  },
  {
   "cell_type": "code",
   "execution_count": 26,
   "id": "03090ece",
   "metadata": {},
   "outputs": [
    {
     "name": "stdout",
     "output_type": "stream",
     "text": [
      "56 67 989 78\n"
     ]
    }
   ],
   "source": [
    "print(total.upper())"
   ]
  },
  {
   "cell_type": "code",
   "execution_count": 27,
   "id": "e3242900",
   "metadata": {},
   "outputs": [
    {
     "name": "stdout",
     "output_type": "stream",
     "text": [
      "56 67 989 78\n"
     ]
    }
   ],
   "source": [
    "print(total.lower())"
   ]
  },
  {
   "cell_type": "code",
   "execution_count": null,
   "id": "43656ed0",
   "metadata": {},
   "outputs": [],
   "source": []
  },
  {
   "cell_type": "code",
   "execution_count": 4,
   "id": "4636662d",
   "metadata": {},
   "outputs": [],
   "source": [
    "first= 'arfat'\n",
    "second= 'tufel'\n",
    "third= 'munaaf'\n",
    "forth= 'razi'\n",
    "fifth= 'ali'\n",
    "sixth='maaz'"
   ]
  },
  {
   "cell_type": "code",
   "execution_count": 5,
   "id": "85c6e865",
   "metadata": {},
   "outputs": [],
   "source": [
    "all_together=f\" {first} {second} {third} {forth} {fifth} {sixth} \""
   ]
  },
  {
   "cell_type": "code",
   "execution_count": 6,
   "id": "baab958a",
   "metadata": {},
   "outputs": [
    {
     "name": "stdout",
     "output_type": "stream",
     "text": [
      " arfat tufel munaaf razi ali maaz \n"
     ]
    }
   ],
   "source": [
    "print(all_together)"
   ]
  },
  {
   "cell_type": "code",
   "execution_count": null,
   "id": "6df36464",
   "metadata": {},
   "outputs": [],
   "source": []
  },
  {
   "cell_type": "code",
   "execution_count": 7,
   "id": "3ceb58e9",
   "metadata": {},
   "outputs": [
    {
     "name": "stdout",
     "output_type": "stream",
     "text": [
      "Sahil Khan\n"
     ]
    }
   ],
   "source": [
    "print(full_name.title())"
   ]
  },
  {
   "cell_type": "code",
   "execution_count": 8,
   "id": "465d6d33",
   "metadata": {},
   "outputs": [
    {
     "name": "stdout",
     "output_type": "stream",
     "text": [
      " Arfat Tufel Munaaf Razi Ali Maaz \n"
     ]
    }
   ],
   "source": [
    "print(all_together.title())"
   ]
  },
  {
   "cell_type": "code",
   "execution_count": 19,
   "id": "e776fc0d",
   "metadata": {},
   "outputs": [
    {
     "name": "stdout",
     "output_type": "stream",
     "text": [
      "SAHIL KHAN\n"
     ]
    }
   ],
   "source": [
    "print(full_name.upper())"
   ]
  },
  {
   "cell_type": "code",
   "execution_count": 20,
   "id": "1af2a687",
   "metadata": {},
   "outputs": [
    {
     "name": "stdout",
     "output_type": "stream",
     "text": [
      "sahil khan\n"
     ]
    }
   ],
   "source": [
    "print(full_name.lower())"
   ]
  },
  {
   "cell_type": "code",
   "execution_count": 21,
   "id": "ebd9a7c0",
   "metadata": {},
   "outputs": [
    {
     "name": "stdout",
     "output_type": "stream",
     "text": [
      " ARFAT TUFEL MUNAAF RAZI ALI MAAZ \n"
     ]
    }
   ],
   "source": [
    "print(all_together.upper())"
   ]
  },
  {
   "cell_type": "code",
   "execution_count": 22,
   "id": "f1cf0863",
   "metadata": {},
   "outputs": [
    {
     "name": "stdout",
     "output_type": "stream",
     "text": [
      " arfat tufel munaaf razi ali maaz \n"
     ]
    }
   ],
   "source": [
    "print(all_together.lower())"
   ]
  },
  {
   "cell_type": "code",
   "execution_count": null,
   "id": "a8a69270",
   "metadata": {},
   "outputs": [],
   "source": []
  },
  {
   "cell_type": "code",
   "execution_count": 29,
   "id": "9d1726f8",
   "metadata": {},
   "outputs": [
    {
     "name": "stdout",
     "output_type": "stream",
     "text": [
      " You all are my Bestfriends,  Arfat Tufel Munaaf Razi Ali Maaz \n"
     ]
    }
   ],
   "source": [
    "print(f\" You all are my Bestfriends, {all_together.title()}\")"
   ]
  },
  {
   "cell_type": "code",
   "execution_count": 30,
   "id": "08771fc0",
   "metadata": {},
   "outputs": [
    {
     "name": "stdout",
     "output_type": "stream",
     "text": [
      " This is my name, Sahil Khan\n"
     ]
    }
   ],
   "source": [
    "print(f\" This is my name, {full_name.title()}\")"
   ]
  },
  {
   "cell_type": "code",
   "execution_count": 31,
   "id": "3b676c4f",
   "metadata": {},
   "outputs": [
    {
     "name": "stdout",
     "output_type": "stream",
     "text": [
      "  Arfat Tufel Munaaf Razi Ali Maaz , all these are my bestfriends\n"
     ]
    }
   ],
   "source": [
    "print(f\" {all_together.title()}, all these are my bestfriends\")"
   ]
  },
  {
   "cell_type": "code",
   "execution_count": 32,
   "id": "2b1d9e2e",
   "metadata": {},
   "outputs": [
    {
     "name": "stdout",
     "output_type": "stream",
     "text": [
      "Sahil Khan, this is my real name\n"
     ]
    }
   ],
   "source": [
    "print(f\"{full_name.title()}, this is my real name\")"
   ]
  },
  {
   "cell_type": "code",
   "execution_count": null,
   "id": "549d4884",
   "metadata": {},
   "outputs": [],
   "source": []
  },
  {
   "cell_type": "code",
   "execution_count": null,
   "id": "31794979",
   "metadata": {},
   "outputs": [],
   "source": [
    "Adding Whitespaces to strings:"
   ]
  },
  {
   "cell_type": "code",
   "execution_count": 34,
   "id": "0a2de8cb",
   "metadata": {},
   "outputs": [
    {
     "name": "stdout",
     "output_type": "stream",
     "text": [
      "favourite_language:pythonjavac++c\n"
     ]
    }
   ],
   "source": [
    "print(\"favourite_language:pythonjavac++c\")"
   ]
  },
  {
   "cell_type": "code",
   "execution_count": null,
   "id": "5c64824c",
   "metadata": {},
   "outputs": [],
   "source": []
  },
  {
   "cell_type": "code",
   "execution_count": null,
   "id": "23e79609",
   "metadata": {},
   "outputs": [],
   "source": [
    "\\n ---> new line"
   ]
  },
  {
   "cell_type": "code",
   "execution_count": 35,
   "id": "258cb970",
   "metadata": {
    "scrolled": true
   },
   "outputs": [
    {
     "name": "stdout",
     "output_type": "stream",
     "text": [
      "favourite_language:\n",
      "python\n",
      "java\n",
      "c++\n",
      "c\n"
     ]
    }
   ],
   "source": [
    "print(\"favourite_language:\\npython\\njava\\nc++\\nc\")"
   ]
  },
  {
   "cell_type": "code",
   "execution_count": 37,
   "id": "41e372f8",
   "metadata": {},
   "outputs": [
    {
     "name": "stdout",
     "output_type": "stream",
     "text": [
      "My_Friends:\n",
      "Arfat\n",
      "Tufel\n",
      "Razi\n",
      "Munaaf\n"
     ]
    }
   ],
   "source": [
    "print(\"my_friends:\\narfat\\ntufel\\nrazi\\nmunaaf\".title())"
   ]
  },
  {
   "cell_type": "code",
   "execution_count": null,
   "id": "3032d2e6",
   "metadata": {},
   "outputs": [],
   "source": []
  },
  {
   "cell_type": "code",
   "execution_count": null,
   "id": "f76033d2",
   "metadata": {},
   "outputs": [],
   "source": [
    "\\t ----> tab delimiter"
   ]
  },
  {
   "cell_type": "code",
   "execution_count": 38,
   "id": "0f2b1979",
   "metadata": {},
   "outputs": [
    {
     "name": "stdout",
     "output_type": "stream",
     "text": [
      "favourite_language:\n",
      "\tpython\n",
      "\tjava\n",
      "\tc++\n",
      "\tc\n"
     ]
    }
   ],
   "source": [
    "print(\"favourite_language:\\n\\tpython\\n\\tjava\\n\\tc++\\n\\tc\")"
   ]
  },
  {
   "cell_type": "code",
   "execution_count": 39,
   "id": "158917bd",
   "metadata": {},
   "outputs": [
    {
     "name": "stdout",
     "output_type": "stream",
     "text": [
      "my_friends:\n",
      "\tarfat\n",
      "\ttufel\n",
      "\trazi\n",
      "\tmunaaf\n"
     ]
    }
   ],
   "source": [
    "print(\"my_friends:\\n\\tarfat\\n\\ttufel\\n\\trazi\\n\\tmunaaf\")"
   ]
  },
  {
   "cell_type": "code",
   "execution_count": null,
   "id": "5b8d7957",
   "metadata": {},
   "outputs": [],
   "source": []
  },
  {
   "cell_type": "code",
   "execution_count": null,
   "id": "dc153cfb",
   "metadata": {},
   "outputs": [],
   "source": [
    "Removing whitespaces from strings"
   ]
  },
  {
   "cell_type": "code",
   "execution_count": 40,
   "id": "598a24ad",
   "metadata": {},
   "outputs": [],
   "source": [
    "name1='sahil'"
   ]
  },
  {
   "cell_type": "code",
   "execution_count": 41,
   "id": "adce2424",
   "metadata": {},
   "outputs": [
    {
     "name": "stdout",
     "output_type": "stream",
     "text": [
      "sahil\n"
     ]
    }
   ],
   "source": [
    "print(name1)"
   ]
  },
  {
   "cell_type": "code",
   "execution_count": 42,
   "id": "15d7576d",
   "metadata": {},
   "outputs": [],
   "source": [
    "name2='    sahil'"
   ]
  },
  {
   "cell_type": "code",
   "execution_count": 43,
   "id": "ac361a3d",
   "metadata": {},
   "outputs": [
    {
     "name": "stdout",
     "output_type": "stream",
     "text": [
      "    sahil\n"
     ]
    }
   ],
   "source": [
    "print(name2)"
   ]
  },
  {
   "cell_type": "code",
   "execution_count": 44,
   "id": "3b177c9a",
   "metadata": {},
   "outputs": [],
   "source": [
    "name3='sahil      '"
   ]
  },
  {
   "cell_type": "code",
   "execution_count": 45,
   "id": "26b1f4e4",
   "metadata": {},
   "outputs": [
    {
     "name": "stdout",
     "output_type": "stream",
     "text": [
      "sahil      \n"
     ]
    }
   ],
   "source": [
    "print(name3)"
   ]
  },
  {
   "cell_type": "code",
   "execution_count": 49,
   "id": "1386ceeb",
   "metadata": {},
   "outputs": [],
   "source": [
    "name4='    sahil    '"
   ]
  },
  {
   "cell_type": "code",
   "execution_count": 50,
   "id": "8249bd30",
   "metadata": {},
   "outputs": [
    {
     "name": "stdout",
     "output_type": "stream",
     "text": [
      "    sahil    \n"
     ]
    }
   ],
   "source": [
    "print(name4)"
   ]
  },
  {
   "cell_type": "code",
   "execution_count": null,
   "id": "f448b092",
   "metadata": {},
   "outputs": [],
   "source": []
  },
  {
   "cell_type": "code",
   "execution_count": 47,
   "id": "4d6234f4",
   "metadata": {},
   "outputs": [
    {
     "data": {
      "text/plain": [
       "'sahil'"
      ]
     },
     "execution_count": 47,
     "metadata": {},
     "output_type": "execute_result"
    }
   ],
   "source": [
    "name2.lstrip()"
   ]
  },
  {
   "cell_type": "code",
   "execution_count": 48,
   "id": "e6d0bc02",
   "metadata": {},
   "outputs": [
    {
     "data": {
      "text/plain": [
       "'sahil'"
      ]
     },
     "execution_count": 48,
     "metadata": {},
     "output_type": "execute_result"
    }
   ],
   "source": [
    "name3.rstrip()"
   ]
  },
  {
   "cell_type": "code",
   "execution_count": 52,
   "id": "60635e6c",
   "metadata": {},
   "outputs": [
    {
     "data": {
      "text/plain": [
       "'sahil'"
      ]
     },
     "execution_count": 52,
     "metadata": {},
     "output_type": "execute_result"
    }
   ],
   "source": [
    "name4.strip()"
   ]
  },
  {
   "cell_type": "code",
   "execution_count": null,
   "id": "b1daf2e0",
   "metadata": {},
   "outputs": [],
   "source": []
  },
  {
   "cell_type": "code",
   "execution_count": null,
   "id": "5ec6b562",
   "metadata": {},
   "outputs": [],
   "source": []
  }
 ],
 "metadata": {
  "kernelspec": {
   "display_name": "Python 3 (ipykernel)",
   "language": "python",
   "name": "python3"
  },
  "language_info": {
   "codemirror_mode": {
    "name": "ipython",
    "version": 3
   },
   "file_extension": ".py",
   "mimetype": "text/x-python",
   "name": "python",
   "nbconvert_exporter": "python",
   "pygments_lexer": "ipython3",
   "version": "3.9.12"
  }
 },
 "nbformat": 4,
 "nbformat_minor": 5
}
